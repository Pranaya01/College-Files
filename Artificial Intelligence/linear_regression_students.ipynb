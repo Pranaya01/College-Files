{
 "cells": [
  {
   "cell_type": "code",
   "execution_count": 20,
   "metadata": {},
   "outputs": [],
   "source": [
    "import numpy as np\n",
    "import matplotlib.pyplot as plt"
   ]
  },
  {
   "cell_type": "markdown",
   "metadata": {},
   "source": [
    "## Below are the corresponding coordinates of the datapoints "
   ]
  },
  {
   "cell_type": "code",
   "execution_count": 21,
   "metadata": {},
   "outputs": [],
   "source": [
    "X = np.array([ 1,  2,  3,  4,  5,  6,  7,  8,  9, 10])\n",
    "Y = np.array([ 2.5,  3. ,  5.5,  9. , 10.5, 11. , 10.5, 13. , 13.5, 15. ])"
   ]
  },
  {
   "cell_type": "markdown",
   "metadata": {},
   "source": [
    "## Plot the datapoints using matplotlib"
   ]
  },
  {
   "cell_type": "code",
   "execution_count": 22,
   "metadata": {
    "scrolled": false
   },
   "outputs": [
    {
     "data": {
      "text/plain": [
       "(0, 18)"
      ]
     },
     "execution_count": 22,
     "metadata": {},
     "output_type": "execute_result"
    },
    {
     "data": {
      "image/png": "[encoded data removed]",
      "text/plain": [
       "<Figure size 432x288 with 1 Axes>"
      ]
     },
     "metadata": {
      "needs_background": "light"
     },
     "output_type": "display_data"
    }
   ],
   "source": [
    "\n",
    "%matplotlib inline\n",
    "\n",
    "plt.plot(X,Y,\"-\") #plot the points\n",
    "plt.xlabel(\"X\") #set label for x axis\n",
    "plt.ylabel(\"Y\") #set label for y axis\n",
    "plt.xlim([0,12]) #set the limits for x axis\n",
    "plt.ylim([0,18]) #set the limits for y axis\n"
   ]
  },
  {
   "cell_type": "markdown",
   "metadata": {},
   "source": [
    "## Using scikit-learn build a linear regression model which will best describe the above data points\n",
    "\n",
    "\n"
   ]
  },
  {
   "cell_type": "code",
   "execution_count": 23,
   "metadata": {},
   "outputs": [],
   "source": [
    "from sklearn.linear_model import LinearRegression #import the linear regression model\n",
    "\n",
    "model = LinearRegression().fit(X.reshape(-1,1),Y.reshape(-1,1)) #fit the model with our data, see for yourself what reshape(-1,1) does to a list\n",
    "m_model = model.coef_[0][0] #get the value of m\n",
    "c_model = model.intercept_[0] #get the value of c"
   ]
  },
  {
   "cell_type": "markdown",
   "metadata": {},
   "source": [
    "## Plot the points and the line given by the model"
   ]
  },
  {
   "cell_type": "code",
   "execution_count": 24,
   "metadata": {
    "scrolled": true
   },
   "outputs": [
    {
     "data": {
      "text/plain": [
       "(0, 18)"
      ]
     },
     "execution_count": 24,
     "metadata": {},
     "output_type": "execute_result"
    },
    {
     "data": {
      "image/png": "[encoded data removed]",
      "text/plain": [
       "<Figure size 432x288 with 1 Axes>"
      ]
     },
     "metadata": {
      "needs_background": "light"
     },
     "output_type": "display_data"
    }
   ],
   "source": [
    "y_model = np.array([m_model*x+c_model for x in X]) #get the values of y as predicted by the model, using the equation y = mx+c\n",
    "\n",
    "plt.plot(X,Y,\"*\") #plot the points\n",
    "plt.plot(X,y_model) #plot the straight line\n",
    "plt.xlabel(\"X\")\n",
    "plt.ylabel(\"Y\")\n",
    "plt.xlim([0,12])\n",
    "plt.ylim([0,18])"
   ]
  },
  {
   "cell_type": "code",
   "execution_count": 25,
   "metadata": {},
   "outputs": [
    {
     "name": "stdout",
     "output_type": "stream",
     "text": [
      "1.3848484848484848 1.7333333333333334\n"
     ]
    }
   ],
   "source": [
    "n = np.size(X)\n",
    "b1 = (np.sum(Y*X) - 1/n * (np.sum(Y)*np.sum(X)))/((np.sum(X**2))-1/n*(np.sum(X) * np.sum(X)))\n",
    "b2=1/n*np.sum(Y)-(b1*(1/n*(np.sum(X))))\n",
    "print(b1,b2)"
   ]
  },
  {
   "cell_type": "markdown",
   "metadata": {},
   "source": [
    "# Build the linear regression model yourself\n",
    "Now you are required to code the equations to find out the values of $\\beta_{0}$ and $\\beta_{1}$. \n",
    "Remember the formula for calculating the parameters are:\n",
    "$$\\beta_{1}=\\frac {\\sum_{i=1}^{n} y_i x_i - \\frac{1}{n} \\sum_{i=1}^{n} y_i \\sum_{i=1}^{n} x_i} {\\sum_{i=1}^{n} x_i^2 - \\frac{1}{n} \\sum_{i=1}^{n} x_i \\sum_{i=1}^{n} x_i}$$\n",
    "$$\\beta_{0} = \\frac{1}{n} \\sum_{i=1}^{n} y_i - \\beta_{1} \\frac{1}{n} \\sum_{i=1}^{n} x_i$$\n",
    "After finding out the values of $\\beta_{0}$ and $\\beta_{1}$, plot the graph of the straight line given by the equation \n",
    "$$y = \\beta_{0}+\\beta_{1}x$$"
   ]
  },
  {
   "cell_type": "code",
   "execution_count": 26,
   "metadata": {},
   "outputs": [
    {
     "data": {
      "text/plain": [
       "(0, 18)"
      ]
     },
     "execution_count": 26,
     "metadata": {},
     "output_type": "execute_result"
    },
    {
     "data": {
      "image/png": "[encoded data removed]",
      "text/plain": [
       "<Figure size 432x288 with 1 Axes>"
      ]
     },
     "metadata": {
      "needs_background": "light"
     },
     "output_type": "display_data"
    }
   ],
   "source": [
    "y_model = np.array([b1*x+b2 for x in X]) #get the values of y as predicted by the model, using the equation y = mx+c\n",
    "\n",
    "plt.plot(X,Y,\"*\") #plot the points\n",
    "plt.plot(X,y_model) #plot the straight line\n",
    "plt.xlabel(\"X\")\n",
    "plt.ylabel(\"Y\")\n",
    "plt.xlim([0,12])\n",
    "plt.ylim([0,18])"
   ]
  }
 ],
 "metadata": {
  "kernelspec": {
   "display_name": "Python 3",
   "language": "python",
   "name": "python3"
  },
  "language_info": {
   "codemirror_mode": {
    "name": "ipython",
    "version": 3
   },
   "file_extension": ".py",
   "mimetype": "text/x-python",
   "name": "python",
   "nbconvert_exporter": "python",
   "pygments_lexer": "ipython3",
   "version": "3.7.4"
  }
 },
 "nbformat": 4,
 "nbformat_minor": 2
}
