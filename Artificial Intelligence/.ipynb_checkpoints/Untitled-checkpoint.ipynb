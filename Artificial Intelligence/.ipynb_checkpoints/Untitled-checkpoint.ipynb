{
 "cells": [
  {
   "cell_type": "code",
   "execution_count": 3,
   "metadata": {},
   "outputs": [
    {
     "name": "stdout",
     "output_type": "stream",
     "text": [
      "['Dont', 'worry.', 'I', 'guess', 'he', 'is', 'busy.']\n",
      "['Going', 'for', 'dinner.', 'msg', 'you', 'later.']\n",
      "['Ok,', 'I', 'will', 'call', 'you', 'up', 'when', 'I', 'get', 'some', 'cash.']\n",
      "['Congrats,', 'You', 'have', 'won!!', 'reply', 'to', 'our', 'sms', 'for', 'a', 'free', 'nokia', 'mobile', '+', 'free', 'camcorder.']\n",
      "['Congrats!', '1', 'year', 'special', 'cinema', 'pass', 'for', '2', 'is', 'yours.', 'reply', 'to', 'this', 'sms', 'to', 'claim', 'your', 'prize.']\n",
      "['I', 'am', 'pleased', 'to', 'tell', 'you', 'that', 'you', 'are', 'awarded', 'with', 'a', '1500', 'Bonus', 'Prize,', 'reply', 'to', 'this', 'sms', 'to', 'claim', 'your', 'prize.']\n"
     ]
    }
   ],
   "source": [
    "spams = ['Congrats, You have won!! reply to our sms for a free nokia mobile + free camcorder.',\n",
    "         'Congrats! 1 year special cinema pass for 2 is yours. reply to this sms to claim your prize.', \n",
    "         'I am pleased to tell you that you are awarded with a 1500 Bonus Prize, reply to this sms to claim your prize.']\n",
    "mails = ['Dont worry. I guess he is busy.', \n",
    "         'Going for dinner. msg you later.', \n",
    "         'Ok, I will call you up when I get some cash.'];\n",
    "\n",
    "vector_mails = []\n",
    "spams_mails = []\n",
    "\n",
    "for mail in mails:\n",
    "    print(mail.split(\" \"))\n",
    "for spam in spams:\n",
    "    print(spam.split(\" \"))\n",
    "\n"
   ]
  },
  {
   "cell_type": "code",
   "execution_count": null,
   "metadata": {},
   "outputs": [],
   "source": []
  }
 ],
 "metadata": {
  "kernelspec": {
   "display_name": "Python 3",
   "language": "python",
   "name": "python3"
  },
  "language_info": {
   "codemirror_mode": {
    "name": "ipython",
    "version": 3
   },
   "file_extension": ".py",
   "mimetype": "text/x-python",
   "name": "python",
   "nbconvert_exporter": "python",
   "pygments_lexer": "ipython3",
   "version": "3.7.4"
  }
 },
 "nbformat": 4,
 "nbformat_minor": 4
}
