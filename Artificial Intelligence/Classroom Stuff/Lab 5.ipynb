{
 "cells": [
  {
   "cell_type": "code",
   "execution_count": 4,
   "metadata": {},
   "outputs": [
    {
     "name": "stdout",
     "output_type": "stream",
     "text": [
      "you\n",
      "when\n",
      "free\n",
      "have\n",
      "special\n",
      "sms\n",
      "he\n",
      "year\n",
      "msg\n",
      "Bonus\n",
      "I\n",
      "Prize\n",
      "worry\n",
      "cinema\n",
      "will\n",
      "yours\n",
      "some\n",
      "Ok\n",
      "to\n",
      "busy\n",
      "a\n",
      "dinner\n",
      "tell\n",
      "are\n",
      "up\n",
      "for\n",
      "our\n",
      "call\n",
      "pass\n",
      "this\n",
      "pleased\n",
      "won\n",
      "is\n",
      "Dont\n",
      "reply\n",
      "with\n",
      "Congrats\n",
      "your\n",
      "mobile\n",
      "awarded\n",
      "nokia\n",
      "get\n",
      "Going\n",
      "am\n",
      "guess\n",
      "camcorder\n",
      "that\n",
      "claim\n",
      "cash\n",
      "prize\n",
      "later\n",
      "51\n"
     ]
    }
   ],
   "source": [
    "unique = {'get', 'this', 'will', 'your', 'cash', 'our', 'to', 'won', 'msg', 'Ok', 'some', 'dinner', 'Prize', 'are', 'Going', 'Bonus', 'tell', 'reply', 'claim', 'is', 'when', 'sms', 'nokia', 'special', 'year', 'call', 'that', 'up', 'mobile', 'later', 'with', 'free', 'pass', 'busy', 'am', 'cinema', 'prize', 'I', 'yours', 'for', 'have', 'a', 'you', 'Congrats', 'camcorder', 'guess', 'he', 'awarded', 'pleased', 'Dont', 'worry'}\n",
    "for i in unique:\n",
    "    print(i)\n",
    "print(len(unique))\n"
   ]
  }
 ],
 "metadata": {
  "kernelspec": {
   "display_name": "Python 3",
   "language": "python",
   "name": "python3"
  },
  "language_info": {
   "codemirror_mode": {
    "name": "ipython",
    "version": 3
   },
   "file_extension": ".py",
   "mimetype": "text/x-python",
   "name": "python",
   "nbconvert_exporter": "python",
   "pygments_lexer": "ipython3",
   "version": "3.7.4"
  }
 },
 "nbformat": 4,
 "nbformat_minor": 4
}
