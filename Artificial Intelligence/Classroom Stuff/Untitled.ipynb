{
 "cells": [
  {
   "cell_type": "code",
   "execution_count": 3,
   "metadata": {},
   "outputs": [
    {
     "name": "stdout",
     "output_type": "stream",
     "text": [
      "['Dont', 'worry.', 'I', 'guess', 'he', 'is', 'busy.']\n",
      "['Going', 'for', 'dinner.', 'msg', 'you', 'later.']\n",
      "['Ok,', 'I', 'will', 'call', 'you', 'up', 'when', 'I', 'get', 'some', 'cash.']\n",
      "['Congrats,', 'You', 'have', 'won!!', 'reply', 'to', 'our', 'sms', 'for', 'a', 'free', 'nokia', 'mobile', '+', 'free', 'camcorder.']\n",
      "['Congrats!', '1', 'year', 'special', 'cinema', 'pass', 'for', '2', 'is', 'yours.', 'reply', 'to', 'this', 'sms', 'to', 'claim', 'your', 'prize.']\n",
      "['I', 'am', 'pleased', 'to', 'tell', 'you', 'that', 'you', 'are', 'awarded', 'with', 'a', '1500', 'Bonus', 'Prize,', 'reply', 'to', 'this', 'sms', 'to', 'claim', 'your', 'prize.']\n"
     ]
    }
   ],
   "source": [
    "spams = ['Congrats, You have won!! reply to our sms for a free nokia mobile + free camcorder.',\n",
    "         'Congrats! 1 year special cinema pass for 2 is yours. reply to this sms to claim your prize.', \n",
    "         'I am pleased to tell you that you are awarded with a 1500 Bonus Prize, reply to this sms to claim your prize.']\n",
    "mails = ['Dont worry. I guess he is busy.', \n",
    "         'Going for dinner. msg you later.', \n",
    "         'Ok, I will call you up when I get some cash.'];\n",
    "\n",
    "vector_mails = []\n",
    "spams_mails = []\n",
    "\n",
    "for mail in mails:\n",
    "    print(mail.split(\" \"))\n",
    "for spam in spams:\n",
    "    print(spam.split(\" \"))\n",
    "\n"
   ]
  },
  {
   "cell_type": "code",
   "execution_count": 1,
   "metadata": {},
   "outputs": [
    {
     "name": "stdout",
     "output_type": "stream",
     "text": [
      "he\n",
      "busy\n",
      "get\n",
      "later\n",
      "you\n",
      "that\n",
      "pass\n",
      "free\n",
      "Prize\n",
      "your\n",
      "up\n",
      "mobile\n",
      "Bonus\n",
      "will\n",
      "claim\n",
      "am\n",
      "cash\n",
      "tell\n",
      "Congrats\n",
      "prize\n",
      "for\n",
      "pleased\n",
      "I\n",
      "with\n",
      "guess\n",
      "when\n",
      "yours\n",
      "Going\n",
      "this\n",
      "camcorder\n",
      "special\n",
      "Dont\n",
      "dinner\n",
      "to\n",
      "are\n",
      "reply\n",
      "cinema\n",
      "worry\n",
      "is\n",
      "sms\n",
      "won\n",
      "year\n",
      "msg\n",
      "awarded\n",
      "some\n",
      "You\n",
      "our\n",
      "a\n",
      "Ok\n",
      "call\n",
      "nokia\n",
      "have\n",
      "52\n"
     ]
    }
   ],
   "source": [
    "unique = {'get', 'this', 'You', 'will', 'your', 'cash', 'our', 'to', 'won', 'msg', 'Ok', 'some', 'dinner', 'Prize', 'are', 'Going', 'Bonus', 'tell', 'reply', 'claim', 'is', 'when', 'sms', 'nokia', 'special', 'year', 'call', 'that', 'up', 'mobile', 'later', 'with', 'free', 'pass', 'busy', 'am', 'cinema', 'prize', 'I', 'yours', 'for', 'have', 'a', 'you', 'Congrats', 'camcorder', 'guess', 'he', 'awarded', 'pleased', 'Dont', 'worry'}\n",
    "for i in unique:\n",
    "    print(i)\n",
    "print(len(unique))"
   ]
  },
  {
   "cell_type": "code",
   "execution_count": null,
   "metadata": {},
   "outputs": [],
   "source": []
  }
 ],
 "metadata": {
  "kernelspec": {
   "display_name": "Python 3",
   "language": "python",
   "name": "python3"
  },
  "language_info": {
   "codemirror_mode": {
    "name": "ipython",
    "version": 3
   },
   "file_extension": ".py",
   "mimetype": "text/x-python",
   "name": "python",
   "nbconvert_exporter": "python",
   "pygments_lexer": "ipython3",
   "version": "3.7.4"
  }
 },
 "nbformat": 4,
 "nbformat_minor": 4
}
